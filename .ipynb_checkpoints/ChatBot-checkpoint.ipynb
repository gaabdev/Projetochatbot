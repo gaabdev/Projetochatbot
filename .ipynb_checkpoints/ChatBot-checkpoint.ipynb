{
 "cells": [
  {
   "cell_type": "code",
   "execution_count": 2,
   "id": "9e2eaec9",
   "metadata": {},
   "outputs": [
    {
     "name": "stdout",
     "output_type": "stream",
     "text": [
      "✔ Download and installation successful\n",
      "You can now load the package via spacy.load('en_core_web_sm')\n"
     ]
    }
   ],
   "source": [
    "from chatterbot import ChatBot\n",
    "from chatterbot.trainers import ListTrainer\n",
    "\n",
    "# isso aqui só precisa para corrigir o bug\n",
    "from spacy.cli import download\n",
    "\n",
    "download(\"en_core_web_sm\")\n",
    "\n",
    "class ENGSM:\n",
    "    ISO_639_1 = 'en_core_web_sm'"
   ]
  },
  {
   "cell_type": "code",
   "execution_count": 12,
   "id": "0eda5986",
   "metadata": {},
   "outputs": [
    {
     "name": "stdout",
     "output_type": "stream",
     "text": [
      "List Trainer: [####################] 100%\n"
     ]
    }
   ],
   "source": [
    "chatbot = ChatBot(\"BotGaab\", tagger_language=ENGSM)\n",
    "\n",
    "conversa = [\n",
    "    \"Coe\",\n",
    "    \"Eai, tranquilo?\",\n",
    "    \"Tranquilo\",\n",
    "    \"Qual a boa de hoje?\",\n",
    "    \"Estou fazendo chá quente\",\n",
    "    \"Puts, que legal\"\n",
    "]\n",
    "\n",
    "trainer = ListTrainer(chatbot)\n",
    "trainer.train(conversa)"
   ]
  },
  {
   "cell_type": "code",
   "execution_count": null,
   "id": "c8b7a190",
   "metadata": {},
   "outputs": [
    {
     "name": "stdout",
     "output_type": "stream",
     "text": [
      "Mande uma mensagem para o chatbot:Coe\n",
      "Eai, tranquilo?\n",
      "Mande uma mensagem para o chatbot:Tranquilo\n",
      "Qual a boa de hoje?\n",
      "Mande uma mensagem para o chatbot:Estou fazendo chá quente\n",
      "Puts, que legal\n",
      "Mande uma mensagem para o chatbot:Coe\n",
      "Eai, tranquilo?\n",
      "Mande uma mensagem para o chatbot:Estou fazendo chá quente\n",
      "Puts, que legal\n",
      "Mande uma mensagem para o chatbot:to fazendo cha quente\n",
      "Coe\n",
      "Mande uma mensagem para o chatbot:estou fazendo chá quente\n",
      "Puts, que legal\n",
      "Mande uma mensagem para o chatbot:Coe\n",
      "Eai, tranquilo?\n",
      "Mande uma mensagem para o chatbot:Tranquilo\n",
      "Qual a boa de hoje?\n",
      "Mande uma mensagem para o chatbot:Eai, tranquilo?\n",
      "Tranquilo\n",
      "Mande uma mensagem para o chatbot:Qual a boa de hoje?\n",
      "Estou fazendo chá quente\n"
     ]
    }
   ],
   "source": [
    "while True:\n",
    "    mensagem = input(\"Mande uma mensagem para o chatbot:\")\n",
    "    if mensagem == \"parar\":\n",
    "        break\n",
    "    resposta = chatbot.get_response(mensagem)\n",
    "    print(resposta)"
   ]
  },
  {
   "cell_type": "code",
   "execution_count": 5,
   "id": "b984aa39",
   "metadata": {},
   "outputs": [
    {
     "data": {
      "text/plain": [
       "<Statement text:Puts, que legal>"
      ]
     },
     "execution_count": 5,
     "metadata": {},
     "output_type": "execute_result"
    }
   ],
   "source": []
  },
  {
   "cell_type": "code",
   "execution_count": 6,
   "id": "c6da9c7a",
   "metadata": {},
   "outputs": [
    {
     "data": {
      "text/plain": [
       "<Statement text:Estou fazendo chá quente>"
      ]
     },
     "execution_count": 6,
     "metadata": {},
     "output_type": "execute_result"
    }
   ],
   "source": [
    "chatbot.get_response(\"traquilo\")"
   ]
  },
  {
   "cell_type": "code",
   "execution_count": 7,
   "id": "853d1e6b",
   "metadata": {},
   "outputs": [],
   "source": [
    "chatbot.storage.drop()"
   ]
  },
  {
   "cell_type": "code",
   "execution_count": null,
   "id": "6211116b",
   "metadata": {},
   "outputs": [],
   "source": []
  }
 ],
 "metadata": {
  "kernelspec": {
   "display_name": "Python 3",
   "language": "python",
   "name": "python3"
  },
  "language_info": {
   "codemirror_mode": {
    "name": "ipython",
    "version": 3
   },
   "file_extension": ".py",
   "mimetype": "text/x-python",
   "name": "python",
   "nbconvert_exporter": "python",
   "pygments_lexer": "ipython3",
   "version": "3.6.13"
  }
 },
 "nbformat": 4,
 "nbformat_minor": 5
}
