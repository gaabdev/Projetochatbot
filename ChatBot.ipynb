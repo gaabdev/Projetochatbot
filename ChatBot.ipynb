{
 "cells": [
  {
   "cell_type": "code",
   "execution_count": null,
   "id": "9e2eaec9",
   "metadata": {},
   "outputs": [],
   "source": [
    "from chatterbot import ChatBot\n",
    "from chatterbot.trainers import ListTrainer\n",
    "\n",
    "# isso aqui só precisa para corrigir o bug\n",
    "from spacy.cli import download\n",
    "\n",
    "download(\"en_core_web_sm\")\n",
    "\n",
    "class ENGSM:\n",
    "    ISO_639_1 = 'en_core_web_sm'"
   ]
  },
  {
   "cell_type": "code",
   "execution_count": null,
   "id": "0eda5986",
   "metadata": {},
   "outputs": [],
   "source": [
    "chatbot = ChatBot(\"BotGaab\", tagger_language=ENGSM)\n",
    "\n",
    "conversa = [\n",
    "    \"Oi\",\n",
    "    \"Eai, tranquilo?\",\n",
    "    \"Quero solicitar meu diploma\",\n",
    "    \"Certo, acesse esse link: https://cursos.alura.com.br/forum/topico-excluir-celula-no-jupyter-278055\",\n",
    "    \"Ok, obrigado\",\n",
    "    \"Nada\"\n",
    "]\n",
    "\n",
    "trainer = ListTrainer(chatbot)\n",
    "trainer.train(conversa)"
   ]
  },
  {
   "cell_type": "code",
   "execution_count": null,
   "id": "3a353dd6",
   "metadata": {},
   "outputs": [],
   "source": [
    "while True:\n",
    "    mensagem = input(\"Mande uma mensagem para o chatbot:\")\n",
    "    if mensagem == \"parar\":\n",
    "        break\n",
    "    resposta = chatbot.get_response(mensagem)\n",
    "    print(resposta)"
   ]
  },
  {
   "cell_type": "code",
   "execution_count": null,
   "id": "1961a8c0",
   "metadata": {},
   "outputs": [],
   "source": []
  },
  {
   "cell_type": "code",
   "execution_count": null,
   "id": "d10ea34b",
   "metadata": {},
   "outputs": [],
   "source": []
  },
  {
   "cell_type": "code",
   "execution_count": null,
   "id": "4f3d0193",
   "metadata": {},
   "outputs": [],
   "source": []
  }
 ],
 "metadata": {
  "kernelspec": {
   "display_name": "Python 3",
   "language": "python",
   "name": "python3"
  },
  "language_info": {
   "codemirror_mode": {
    "name": "ipython",
    "version": 3
   },
   "file_extension": ".py",
   "mimetype": "text/x-python",
   "name": "python",
   "nbconvert_exporter": "python",
   "pygments_lexer": "ipython3",
   "version": "3.6.13"
  }
 },
 "nbformat": 4,
 "nbformat_minor": 5
}
